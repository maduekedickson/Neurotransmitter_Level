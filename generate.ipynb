{
 "cells": [
  {
   "cell_type": "code",
   "execution_count": 1,
   "metadata": {},
   "outputs": [],
   "source": [
    "import pandas as pd\n",
    "import numpy as np"
   ]
  },
  {
   "cell_type": "code",
   "execution_count": 2,
   "metadata": {},
   "outputs": [],
   "source": [
    "# Set random seed for reproducibility\n",
    "np.random.seed(42)"
   ]
  },
  {
   "cell_type": "code",
   "execution_count": 3,
   "metadata": {},
   "outputs": [],
   "source": [
    "# Generate synthetic data\n",
    "num_samples = 1000\n",
    "\n",
    "drug_types = [\"Alcohol\", \"Cocaine\", \"Meth\", \"Cannabis\", \"Opioids\"]\n",
    "drug_data = np.random.choice(drug_types, num_samples)\n",
    "dose = np.random.uniform(5, 500, num_samples)  # mg\n",
    "frequency = np.random.randint(1, 8, num_samples)  # times per week\n",
    "duration = np.random.randint(1, 61, num_samples)  # months\n",
    "\n",
    "# Generate neurotransmitter levels with some correlations to drug type, dose, and duration\n",
    "dopamine = np.random.uniform(10, 200, num_samples) + (dose * 0.05) - (duration * 0.2)\n",
    "serotonin = np.random.uniform(50, 250, num_samples) + (frequency * 2) - (dose * 0.03)\n",
    "gaba = np.random.uniform(30, 150, num_samples) - (frequency * 1.5) + (duration * 0.1)\n",
    "glutamate = np.random.uniform(20, 180, num_samples) + (dose * 0.02) - (frequency * 2)"
   ]
  },
  {
   "cell_type": "code",
   "execution_count": 6,
   "metadata": {},
   "outputs": [],
   "source": [
    "# Create DataFrame\n",
    "df = pd.DataFrame({\n",
    "    \"Drug Type\": drug_data,\n",
    "    \"Dose (mg)\": dose.round(2),\n",
    "    \"Frequency (per week)\": frequency,\n",
    "    \"Duration (months)\": duration,\n",
    "    \"Dopamine Level (ng/mL)\": dopamine.round(2),\n",
    "    \"Serotonin Level (ng/mL)\": serotonin.round(2),\n",
    "    \"GABA Level (ng/mL)\": gaba.round(2),\n",
    "    \"Glutamate Level (ng/mL)\": glutamate.round(2)\n",
    "})"
   ]
  },
  {
   "cell_type": "code",
   "execution_count": 7,
   "metadata": {},
   "outputs": [
    {
     "data": {
      "text/plain": [
       "'neurotransmitter_drug_data.csv'"
      ]
     },
     "execution_count": 7,
     "metadata": {},
     "output_type": "execute_result"
    }
   ],
   "source": [
    "# Save to CSV\n",
    "file_path = \"neurotransmitter_drug_data.csv\"\n",
    "df.to_csv(file_path, index=False)\n",
    "\n",
    "file_path"
   ]
  }
 ],
 "metadata": {
  "kernelspec": {
   "display_name": "DataScience",
   "language": "python",
   "name": "python3"
  },
  "language_info": {
   "codemirror_mode": {
    "name": "ipython",
    "version": 3
   },
   "file_extension": ".py",
   "mimetype": "text/x-python",
   "name": "python",
   "nbconvert_exporter": "python",
   "pygments_lexer": "ipython3",
   "version": "3.12.2"
  }
 },
 "nbformat": 4,
 "nbformat_minor": 2
}
